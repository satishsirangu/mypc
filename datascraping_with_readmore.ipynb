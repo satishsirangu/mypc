{
 "cells": [
  {
   "cell_type": "code",
   "execution_count": 39,
   "id": "e7edc8bc",
   "metadata": {},
   "outputs": [],
   "source": [
    "import pandas as pd\n",
    "import requests\n",
    "from bs4 import BeautifulSoup as BS4"
   ]
  },
  {
   "cell_type": "code",
   "execution_count": 41,
   "id": "022f361b",
   "metadata": {},
   "outputs": [],
   "source": [
    "reviewlist=[]\n",
    "def reach_soup(link):\n",
    "    #l='https://www.cardekho.com/mahindra/xuv700/user-reviews/looks/x'\n",
    "    #l='https://www.cardekho.com/honda/city-hybrid/user-reviews/x'\n",
    "    agent={\"User-Agent\":'Mozilla/5.0 (Windows NT 6.3; WOW64) AppleWebKit/537.36 (KHTML, like Gecko) Chrome/59.0.3071.115 Safari/537.36'}\n",
    "    page=requests.get(link, headers=agent)\n",
    "    soup=BS4(page.content, 'lxml')\n",
    "    return soup\n",
    "def reach_reviews(soup):\n",
    "    reviews=soup.find('div', class_='readReviewHolder')\n",
    "    review={\n",
    "           'review':reviews.p.text,'title':reviews.h3.text, 'name':reviews.find('div',class_='name').text, 'time':reviews.find('div', class_='date').text\n",
    "               }\n",
    "    print(reviews.text)\n",
    "    reviewlist.append(review)"
   ]
  },
  {
   "cell_type": "code",
   "execution_count": 42,
   "id": "da556d23",
   "metadata": {},
   "outputs": [
    {
     "name": "stdout",
     "output_type": "stream",
     "text": [
      "https://www.cardekho.com/user-review/honda-city-hybrid/good-build-quality-and-interior-271162.htm\n",
      "Good Build Quality And InteriorIt has good build quality and interior space. It has good boot space and is more spacious but it has a high price. It gets a one-touch electric sunroof which is unavoidable in most cars but the infotainment system is not good. It has six airbags at this price and many great safety features but is not easy to use. It gives around 15 kmpl mileage and it comes with petrol and diesel engine fuel type options. It has a seating capacity of five occupants and is a good sedan car.By ashishOn: Oct 17, 2023  | 976 Views Like0 Dislikes\n",
      "https://www.cardekho.com/user-review/honda-city-hybrid/timeless-style-and-performance-renewed-270786.htm\n",
      "Timeless Style And Performance RenewedBecause of this, I've the utmost reference for this model. I am appreciative of this model's qualifications. The Honda City Hybrid uthisrs in a new time of communal luxury. Elate your driving with this model's unusual eventuality for provisioning. Its slice and bones rudiments and contemporary phraseology examine what phraseology punch implies. The City's ample innards and slice bite technologies give a sumptuous and slice bite driving experience. It's a well waxed engine, operating easily and appearinggood. It's a well waxed engine, operating easily and appearinggood. It's a auto that excels at both effectiveness and goddess, linking shape and function.By pradeepOn: Oct 15, 2023  | 105 Views Like0 Dislikes\n",
      "https://www.cardekho.com/user-review/honda-city-hybrid/mileage-a-huge-disappointment-270514.htm\n",
      "Mileage A Huge DisappointmentI purchased the Honda City Hybrid H-ev with high expectations, given Honda's reputation for quality and the Japanese style of business. However, I have been thoroughly disappointed by the vehicle's fuel efficiency. Despite making numerous complaints and seeking assistance from Honda, I am dismayed to report that they have not taken any significant action to address the issue. This falls short of the customer service standards that we often associate with Japanese companies. The lack of proper mileage is not only inconvenient but also financially burdensome. It's disheartening to experience such an issue with a brand like Honda. I had expected a reliable and fuel-efficient vehicle, but the reality has not lived up to these expectations. I sincerely hope Honda takes immediate steps to rectify this situation and uphold the trust and quality that their name represents. In the meantime, I find it challenging to recommend the Honda City Hybrid H-EV to potential buyers, given my own disappointing experience.By shantanu singhOn: Oct 12, 2023  | 1639 Views Like0 Dislikes\n",
      "https://www.cardekho.com/user-review/honda-city-hybrid/best-performance-and-comfortable-riding-experience-270406.htm\n",
      "Best Performance And Comfortable Riding ExperienceHonda City Hybrid was one of the best-selling sedans in the Indian market. This car is currently discontinued, but it was the main contributor to the total sales of the Honda in India. This car consists of a 4-cylinder, around 1500 cc engine that is very powerful and has good performance in the city as well as on Highway rides. This car was available in both Diesel and petrol engine variants. This car has in best-in-class suspension system, which is very comfortable on Indian roads. This car has the best Fuel efficiency in the sedan segment.By manishOn: Oct 11, 2023  | 101 Views Like0 Dislikes\n",
      "https://www.cardekho.com/user-review/honda-city-hybrid/honda-city-hybrid-legacy-of-excellence-continues-269885.htm\n",
      "Honda City Hybrid Legacy Of Excellence ContinuesI will always have the utmost estimation for this model because of this. I enjoy the vacuity of this model. With the release of the Honda City Hybrid, communal luxury has passed new heights. You can meliorate your driving thanks to this model's astounding characteristics. Its innovative features and fine appearance review what it means to punch in luxury. The spacious innards and slice edge technology of the City give a affable and modern drivingexperience.This Okey appearing auto does not precisely turn heads, it's also remarkably energy efficient.It's a auto that's both dependable and swish.By farokhOn: Oct 06, 2023  | 179 Views Like0 Dislikes\n",
      "https://www.cardekho.com/user-review/honda-city-hybrid/honda-city-hybrid-has-next-level-urban-charm-269484.htm\n",
      "Honda City Hybrid Has Next Level Urban CharmDue to its, my reference for this model has no bounds. This model's qualification is commodity I respect. A new time of civic luxury has begun with the Honda City's fourth generation. Ameliorate your driving with the remarkable capabilities of this model. ultramodern styling and slice bite technology resuscitate what it means to punch in phraseology. Driving in the City is a luxury and slice bite experience thanks to its ample cabin and slice bite technologies.This car excellent condition, gets great mileage, and is stylish.This car well maintained, fuel efficient, and attractive.By rakeshOn: Oct 03, 2023  | 211 Views Like0 Dislikes\n",
      "https://www.cardekho.com/user-review/honda-city-hybrid/urban-luxury-with-the-honda-city-hybrid-269062.htm\n",
      "Urban Luxury With The Honda City HybridBecause of this, my adoration for this model is beyond bounds. This model's qualification is a commodity for which I'm thankful. The Honda City Hybrid ushers in a new time of civic luxury. With this model's remarkable capacity for furnishing, elate your driving. It's slice-bite features and coincidental styling review what it means to punch in phraseology. The City's ample cabin and slice-bite electronics give a driving experience that's both opulent and ultramodern. The car is well-maintained and fuel-efficient. It also has a stylish design.By meenalOn: Sep 29, 2023  | 109 Views Like0 Dislikes\n",
      "https://www.cardekho.com/user-review/honda-city-hybrid/fusing-elegance-dynamism-and-safety-seamlessly-268693.htm\n",
      "Fusing Elegance, Dynamism, And Safety SeamlesslyInnovative Progression Honda City hybrid Sets New Urban Driving norms. Striking Aesthetics Take Center Stage. Enhanced Performance Dynamic Machine Takes Lead. Elegantly drafted Innards Roomy Cabin, Contemporary Luxuries. Technological Excellence Next-Level Features Enhance trip. royal Driving Nimble Control, gentled suspense. Focus on Safety Impressive Safety Features Garner Acclaim. Conclusion Honda City Hybrid Ushers Elevated Civic Commuting, Fusing Elegance, Dynamism, and Safety Seamlessly. I feel really amazing driving this awesome car and I'm sure no one would ever regret buying it. so of course it's highly recommended from my side and is one of the best four-wheelers.By jaisonOn: Sep 26, 2023  | 69 Views Like0 Dislikes\n",
      "https://www.cardekho.com/user-review/honda-city-hybrid/the-allnew-honda-city-a-contemporary-urban-marvel-268446.htm\n",
      "The All-New Honda City: A Contemporary Urban MarvelIn the bustling streets of the United Kingdom, where elegance meets efficiency, the Honda City has established itself as a true automotive icon. With its rich history dating back to the early 1980s, the Honda City has consistently evolved to meet the ever-changing demands of the modern urban dweller. Design and Aesthetics The 2023 Honda City is a striking embodiment of contemporary design. Its sleek and aerodynamic profile not only enhances its visual appeal but also contributes to improved fuel efficiency. The prominent chrome grille and LED headlights give the front fascia a sophisticated yet dynamic presence. Step inside the cabin, and you're greeted by a meticulously crafted interior. The use of high-quality materials, soft-touch surfaces, and a thoughtfully designed layout create an inviting and comfortable atmosphere. The ergonomic placement of controls ensures that every drive is a seamless and intuitive experience. Performance and Efficiency Under the hood, the Honda City offers a range of powertrains to suit various preferences. The advanced hybrid option combines a petrol engine with an electric motor to deliver impressive fuel efficiency while reducing emissions. For those who seek exhilarating performance, the turbocharged petrol engine provides ample power, making city driving a breeze. The City's CVT (Continuously Variable Transmission) ensures smooth acceleration and efficient power delivery, making stop-and-go traffic a less daunting prospect. It strikes the perfect balance between performance and fuel economy. Technology and Connectivity In an era of digital dominance, the Honda City keeps pace with the latest in automotive technology. The infotainment system features a user-friendly touchscreen interface that supports Apple CarPlay and Android Auto, allowing seamless integration of your smartphone for navigation, music, and more. Safety is paramount in the City, with a suite of advanced driver-assistance features like adaptive cruise control, lane-keeping assist, and automatic emergency braking. These technologies work in harmony to provide peace of mind during every journey. Space and Versatility Despite its compact footprint, the Honda City maximizes interior space, ensuring ample legroom and comfort for both the driver and passengers. The versatile rear seats can be folded down to create a spacious cargo area, accommodating all your shopping bags or weekend gear. Conclusion The Honda City, with its blend of style, performance, and advanced technology, continues to be a benchmark in the compact sedan segment. Its ability to navigate the busy streets of the United Kingdom with ease and elegance makes it a popular choice among urban commuters and families alike. In a world where urban mobility demands efficiency and sophistication, the Honda City stands tall as a symbol of automotive excellence, making every journey a delightful experience on British roads. Choose the Honda City, and choose a smarter way to navigate the cityBy samudra devOn: Sep 24, 2023  | 111 Views Like0 Dislikes\n",
      "https://www.cardekho.com/user-review/honda-city-hybrid/elevating-urban-driving-268027.htm\n"
     ]
    },
    {
     "name": "stdout",
     "output_type": "stream",
     "text": [
      "Elevating Urban DrivingThe fourth generation Honda City impresses with its elegant format, cushty indoors, and balanced normal performance. Its glossy and modern day outdoors exudes sophistication, while the spacious cabin boasts high quality substances and patron quality tech capabilities. The automobile's green engine and responsive dealing with make it ideal for metropolis using, and its practicality shines thru with enough trunk space and bendy rear seats. Safety talents, which include advanced driving pressure help systems, decorate its appeal. The Honda City is a properly rounded compact sedan that excels in layout, performance, and comfort, making it a pinnacle desire in its elegance.By amitabhOn: Sep 22, 2023  | 118 Views Like0 Dislikes\n",
      "https://www.cardekho.com/user-review/honda-city-hybrid/honda-city-hybrid-classic-sedan-267369.htm\n",
      "Honda City Hybrid Classic SedanThe Honda City Hybrid is a classic sedan that has left a lasting legacy. Its timeless design is sleek and sophisticated, and the cabin offers comfortable seating and quality materials. It handles well on highways and is a reliable choice for daily commuting. The infotainment system is basic but functional. The only minor drawback is that it lacks some modern features. If you appreciate a classic and reliable sedan, the City Hybrid is a timeless choice.By vertikaOn: Sep 18, 2023  | 235 Views Like0 Dislikes\n",
      "https://www.cardekho.com/user-review/honda-city-hybrid/good-performance-266604.htm\n",
      "Good PerformanceThe Honda City 4th Generation was launched in India was 2014. It contains a 1.5-litre petrol engine. Its 1.5-litre diesel engine was discontinued. The exterior of this car is very elegant and amazing. This five-seater car sedan had a lot of headspace, leg space, and shoulder space for a comfortable ride. In the interior, it had an automated climate control system, a 7-inch touchscreen system, a four-speaker music control system, a cruise control system, and many more. To ensure the safety of the passengers it consists of dual front airbags, child seats, anchorages, a rear parking system, and more.By angshumanOn: Sep 13, 2023  | 102 Views Like0 Dislikes\n",
      "https://www.cardekho.com/user-review/honda-city-hybrid/the-car-is-roomy-and-welldesigned-266267.htm\n",
      "The Car Is Roomy And Well-DesignedThe comfort, fuel efficiency, and ride quality of the fourth generation Honda City are exceptional. The inside of the car is roomy and well designed, with plenty of legroom and supportive seats for the driver and passengers. Even on uneven roads, the suspension system guarantees a comfortable and pleasurable ride. The City's impressive fuel economy makes it a practical option for everyday commutes and long distance travel. The whole driving experience is improved by the marriage of a quick engine and a fluid CVT gearbox. All things considered, the Honda City Hybrid is a dependable, cosy, and effective sedan.By vinodhiniOn: Sep 11, 2023  | 105 Views Like0 Dislikes\n",
      "https://www.cardekho.com/user-review/honda-city-hybrid/good-hybrid-car-266053.htm\n",
      "Good Hybrid CarI use the hybrid mostly in NCR and Delhi. Its fuel efficiency helps save a little more, especially in bumper-to-bumper traffic on usual days. I think it's the best option.By pranjalOn: Sep 10, 2023  | 87 Views Like0 Dislikes\n",
      "https://www.cardekho.com/user-review/honda-city-hybrid/new-look-new-tech-265642.htm\n",
      "New Look, New TechThe new Honda City Hybrid has a nicer shape than before and more features inside too. It is fun to drive and has a quiet engine. The City also has a big touchscreen and cameras to make parking easy. But the back seat is not as roomy as some other cars and it costs more than other options like the Dzire. Honda City 4th generation look could seem compromised, it feels like other generations of Honda City looks more classy.By jatinderOn: Sep 08, 2023  | 101 Views Like0 Dislikes\n",
      "https://www.cardekho.com/user-review/honda-city-hybrid/great-milage-265325.htm\n",
      "Great MilageGood news, we can buy this car as it is one of the best for driving and ensuring a safe journey. We can give it a try as it's one of the best choices. Honda City is always a top choice.By rishiOn: Sep 06, 2023  | 89 Views Like0 Dislikes\n",
      "https://www.cardekho.com/user-review/honda-city-hybrid/a-timeless-machine-264939.htm\n",
      "A Timeless MachineAs a classic symbol of comfort and dependability in the sedan segment, the Honda City 4th Generation continues to last. Making a striking impression on the road, its elegant and sophisticated design never fails to please. A powerful engine that offers sufficient horsepower for motorway travel, as well as city commutes, makes for a smooth and polished driving experience. The sophisticated infotainment system keeps everyone engaged and connected, while the roomy and luxurious cabin provides outstanding comfort for all passengers. For those who enjoy sedans, the Honda City 4th Generation continues to be a great option because of its exceptional fuel efficiency and advanced safety features.By shrinivasOn: Sep 04, 2023  | 68 Views Like0 Dislikes\n",
      "https://www.cardekho.com/user-review/honda-city-hybrid/perfect-blend-for-the-advance-generation-263894.htm\n",
      "Perfect Blend For The Advance GenerationA new friend to a new generation, the Honda City Hybrid arrives in style in fusion with comfort. Starting at a very affordable price of Rs. 8.77 lakhs. I find this car quite versatile and responsive. It also provides a great mileage of about 17 to 26 Kmpl. The fuel type comes in petrol as well as diesel. The transmission type is available for both manual as well as automatic. It is a very remarkable sedan. I personally find this car model cost-effective, with great efficiency and amazingly designed interior and exterior. The safety elements ensure a hassle-free journey.By rajneeshOn: Aug 27, 2023  | 158 Views Like0 Dislikes\n",
      "https://www.cardekho.com/user-review/honda-city-hybrid/city-hybrid-good-for-family-263173.htm\n",
      "City Hybrid Good For FamilyThis sedan car is a good for family. This is very comfortable and the maintenance cost is very low. It comes with a 1498 cc engine and it has an automatic transmission. It provides 27.13 kmpl mileage. The price range of this Honda car is around 20 lakh. Honda City Hybrid comes in six single-tone colors. It has an inch touchscreen infotainment system. The safety features of this car are also good like it provides six airbags, an electric parking brake, and advanced driver assistance systems.By rahulOn: Aug 22, 2023  | 195 Views Like0 Dislikes\n",
      "https://www.cardekho.com/user-review/honda-city-hybrid/happy-family-car-261902.htm\n",
      "Happy Family CarMileage economy of 20 kmpl in megacity driving conditions, Giving City Hybrid lower handling cost as compared to diesel seamless mongrel system which makes driving easier. A car you'll enjoy driving in traffic, a tractable power unit that delivers performance comparable to internal combustion with the same safety technology as the Honda Seeing, lane-keeping assist, lane departure mitigation, adaptive cruise control, bus high beams, collision The quenching retardation is consistent with the system. Also ESP, 6 airbags, and a lane watch camera. This generation Honda City Hybrid feels evolved in terms of overall feel and surface dimensions, the spacious cabin will keep your family happy. A hydrofoil that you would love to drive even as a motorist.By arvindOn: Aug 14, 2023  | 198 Views Like0 Dislikes\n",
      "https://www.cardekho.com/user-review/honda-city-hybrid/excellent-fuel-economy-261223.htm\n",
      "Excellent Fuel EconomyThis Hybrid version of honda city gives an excellent fuel economy (27. 13 km), also it s a very Spacious and comfortable interior, a Stylish exterior, and Advanced safety features (Honda Sensing, Long list of standard features. Some advanced tech features are Twin electric motors,e CVT transmission, an 8-inch touchscreen infotainment system, Single pane sunroof, Ambient lighting, Connected car tech, Automatic climate control with rear AC vents, Honda Sensing (ADAS) ect, such a long list. But this has limited cargo space so if you are trying to, kindly avoid this.By swatiOn: Aug 10, 2023  | 181 Views Like0 Dislikes\n",
      "https://www.cardekho.com/user-review/honda-city-hybrid/fabulous-car-261039.htm\n"
     ]
    },
    {
     "name": "stdout",
     "output_type": "stream",
     "text": [
      "Fabulous CarOverall worth it at all costs awesome car and road presence as well as handling is also too good with luxury.By vikas kumar jaiswalOn: Aug 09, 2023  | 91 Views Like0 Dislikes\n",
      "https://www.cardekho.com/user-review/honda-city-hybrid/fuel-efficient-and-eco-friendly-sedan-260856.htm\n",
      "Fuel Efficient And Eco Friendly SedanThe Honda City Hybrid and Half is an eco-accommodating and modern hydrofoil that offers a remarkable driving encounter. With its mutt powertrain, it conveys fantastic energy viability and diminishes fossil fuel byproducts. The City Mutt gives a smooth and agreeable lift, guaranteeing a pleasant outing for its occupants. The inside is roomy and very much planned, including cutting-edge innovation and beautifying accessories. The stars of the City Mutt incorporate its eco-accommodating nature, improved driving experience, and great innards. In any case, a few cons to consider are the high-level value contrasted with non-half-breed variations.By srinijaOn: Aug 08, 2023  | 53 Views Like0 Dislikes\n",
      "https://www.cardekho.com/user-review/honda-city-hybrid/efficient-for-daily-commuting-260268.htm\n",
      "Efficient For Daily CommutingThe Honda City 4th Generation is a variant of the popular Honda City that combines the efficiency of hybrid technology with the comfort and practicality of a compact sedan. With its eco-friendly nature and impressive fuel economy, the City Hybrid becomes the best option for those who are nature friendly. The combination of a petrol engine and an electric motor results in excellent fuel efficiency. The Honda City Hybrid comes with a range of safety features. There are a few considerations to keep in mind. The hybrid variant of the City may come with a higher price tag compared to the conventional petrol model.By minaOn: Aug 04, 2023  | 402 Views Like0 Dislikes\n",
      "https://www.cardekho.com/user-review/honda-city-hybrid/best-in-class-259223.htm\n",
      "Best In ClassThe driving experience of this sedan is superb and I have had no issues with its ground clearance so far.By nitin duttaOn: Jul 29, 2023  | 116 Views Like0 Dislikes\n",
      "https://www.cardekho.com/user-review/honda-city-hybrid/fuel-efficient-hybrid-car-258932.htm\n",
      "Fuel Efficient Hybrid CarHonda City Hybrid is an environmentally conscious choice. It provides an enjoyable drive along with good fuel efficiency. This car is Perfect for both short commutes and long drives. I really impressed with its performance. The car is also very comfortable. They provide good safety features like airbags and tire pressure monitoring systems. A few features are missing but overall it is good. It offers excellent frontal visibility. It scores superbly on seat comfort. It is good for pricing and for good long rides. I really enjoyed the carBy neerajOn: Jul 27, 2023  | 181 Views Like0 Dislikes\n",
      "https://www.cardekho.com/user-review/honda-city-hybrid/honda-city-hybrid-great-car-258594.htm\n",
      "Honda City Hybrid - Great Car \n",
      "It is very comfortable and has the best mileage in the city. It is the best sedan all over the world and gives the best feeling of luxury.By amber kankaneOn: Jul 25, 2023  | 283 Views Like0 Dislikes\n",
      "https://www.cardekho.com/user-review/honda-city-hybrid/best-sedan-258474.htm\n",
      "Best SedanHonda is the best brand. It's a very good sedan and always the best. It's my favorite - very good-looking and comfortable. \n",
      "  By dr syed ehtishamOn: Jul 24, 2023  | 66 Views Like0 Dislikes\n",
      "https://www.cardekho.com/user-review/honda-city-hybrid/this-is-amazing-car-relates-257933.htm\n",
      "This Is Amazing Car RelatesThis car is amazing, especially in terms of mileage, comfort, safety, and ease of driving with automatic transmission, etc. \n",
      "  By harshOn: Jul 22, 2023  | 70 Views Like0 Dislikes\n",
      "https://www.cardekho.com/user-review/honda-city-hybrid/ecofriendly-and-sophisticated-sedan-255978.htm\n",
      "Eco-friendly And Sophisticated SedanThe Honda City Hybrid is an eco-friendly and sophisticated hydrofoil that offers a unique driving experience. With its mongrel powertrain, it delivers excellent energy effectiveness and reduces carbon emissions. The City Mongrel provides a smooth and comfortable lift, ensuring an enjoyable trip for its inhabitants. The interior is commodious and well-designed, featuring advanced technology and decorative accouterments. The pros of the City Mongrel include its eco-friendly nature, meliorated driving experience, and high-quality innards. Still, some cons to consider are the advanced price compared to non-hybrid variants and the limited vacuity of some requests.By sanduOn: Jul 12, 2023  | 139 Views Like0 Dislikes\n",
      "https://www.cardekho.com/user-review/honda-city-hybrid/overall-best-looking-car-255971.htm\n",
      "Overall Best Looking CarOverall best-looking car in sedans in this range and the mileage performance is balanced in the new Honda City Hybrid version the comfort is also good and u have enough boot space and enough reclined and more legroom than the old Honda City.By aayushmanOn: Jul 12, 2023  | 98 Views Like0 Dislikes\n",
      "https://www.cardekho.com/user-review/honda-city-hybrid/perfect-car-255199.htm\n",
      "Perfect CarThe Honda City is a stylish and comfortable sedan that excels in performance. Its sleek design, spacious interior, and high-quality materials create a premium feel. The City offers a smooth and refined driving experience with a good balance of power and fuel efficiency. Its advanced safety features provide reassurance to occupants. Although rear-seat space may be limited for taller passengers and the touchscreen infotainment system could be more intuitive, the Honda City remains a well-rounded option. With its attractive design, comfortable interior, and impressive safety features, the Honda City is a reliable and stylish sedan worth considering.By paragOn: Jul 08, 2023  | 123 Views Like0 Dislikes\n",
      "https://www.cardekho.com/user-review/honda-city-hybrid/comfort-and-drive-255145.htm\n",
      "Comfort And DriveIn general, the experience was very pleasant, with a comfortable driving feel and an appealing exterior. However, there is room for improvement in terms of the interior. \n",
      "  By harsh gadhiyaOn: Jul 08, 2023  | 67 Views Like0 Dislikes\n",
      "https://www.cardekho.com/user-review/honda-city-hybrid/hybrid-city-driving-made-easy-254847.htm\n",
      "Hybrid City Driving Made EasyHonda's first hybrid sedan the City Hybrid delivers smooth and efficient driving in a simple and practical package. The hybrid system pairs a gasoline engine with an electric motor to provide good fuel economy and lower emissions. The hybrid battery can provide enough electric-only power for short trips around town. The hybrid technology is mostly transparent to the driver. The transition between gasoline and electric power is seamless so you do not notice the switching. The main benefit is the improved gas mileage, especially in stop-and-go city driving where the hybrid shines.By poornimaOn: Jul 06, 2023  | 240 Views Like0 Dislikes\n",
      "https://www.cardekho.com/user-review/honda-city-hybrid/a-fuelefficient-and-stylish-compact-sedan-254805.htm\n",
      "A Fuel-Efficient And Stylish Compact SedanThe Honda City Hybrid is an impressive addition to Honda's lineup of hybrid vehicles, combining the practicality and reliability of the popular City sedan with the efficiency of hybrid technology. As a compact sedan, the City Hybrid offers a comfortable and spacious cabin, attractive styling, and a host of advanced features that make it a compelling choice for eco-conscious drivers. One of the standout features of the Honda City Hybrid is its fuel efficiency. With a hybrid powertrain, the City Hybrid delivers excellent gas mileage, allowing drivers to save money at the pump and reduce their carbon footprint. The combination of a gasoline engine and an electric motor provides seamless power delivery, optimizing fuel consumption in both city and highway driving conditions. This makes the City Hybrid an ideal choice for urban commuters who navigate through heavy traffic regularly. In terms of performance, the Honda City Hybrid delivers a smooth and refined ride. The hybrid powertrain offers ample power and acceleration, ensuring that the vehicle feels responsive and capable in various driving situations. The transition between electric and gasoline power is seamless, and the regenerative braking system helps to recharge the battery while providing confident stopping power. Inside the cabin, the Honda City Hybrid boasts a well-designed and spacious interior. The seats are comfortable and supportive, offering ample legroom and headroom for both front and rear passengers. The dashboard layout is intuitive, with easy-to-read gauges and controls that are within reach of the driver. The build quality is commendable, with high-quality materials used throughout the interior, giving it a premium feel. In terms of technology and features, the Honda City Hybrid comes well-equipped. Depending on the trim level, you can expect features such as a touchscreen infotainment system with smartphone integration, Bluetooth connectivity, a rearview camera, automatic climate control, keyless entry, and a range of safety features including multiple airbags, stability control, and collision mitigation braking. These features enhance the overall driving experience and provide convenience, entertainment, and peace of mind for the occupants. From an exterior standpoint, the Honda City Hybrid showcases a modern and stylish design. The sleek and aerodynamic profile is complemented by attractive lines and LED headlights, giving the car a sophisticated and contemporary look. The hybrid variant retains the same elegant and sporty design as the regular City model, making it visually appealing on the road. One potential downside of the Honda City Hybrid is its limited electric-only range. While it offers excellent fuel efficiency, the electric motor's range is relatively short compared to dedicated electric vehicles. However, the hybrid powertrain compensates for this limitation by seamlessly switching to the gasoline engine when needed, providing a practical solution for longer journeys. In conclusion, the Honda City Hybrid is a compelling choice for those seeking a fuel-efficient and stylish compact sedan. With its impressive fuel economy, comfortable interior, advanced features, and attractive design, the City Hybrid offers a well-rounded package for eco-conscious drivers. Whether you're navigating through city traffic or embarking on longer journeys, the Honda City Hybrid is a reliable and efficient companion that delivers on both performance and practicality.By ankitOn: Jul 06, 2023  | 100 Views Like0 Dislikes\n",
      "https://www.cardekho.com/user-review/honda-city-hybrid/the-ideal-mix-of-effectiveness-and-solace-252295.htm\n"
     ]
    },
    {
     "name": "stdout",
     "output_type": "stream",
     "text": [
      "The Ideal Mix Of Effectiveness And SolaceThe Honda City Hybrid is a noteworthy vehicle that easily joins eco-friendliness with an open-to-driving experience. Its crossover motor offers noteworthy mileage, permitting you to save money on fuel costs without settling on influence. The inside is open and very much planned, giving adequate legroom and a large group of cutting-edge highlights. The vehicle handles extraordinarily well, conveying a smooth and calm ride. With its smooth outside plan and solid execution, the Honda City Hybrid is a great decision for eco-cognizant drivers looking for a mix of productivity and solace.By shabbirOn: Jun 22, 2023  | 294 Views Like0 Dislikes\n",
      "https://www.cardekho.com/user-review/honda-city-hybrid/effortless-efficiency-and-sophistication-251734.htm\n",
      "Effortless Efficiency And SophisticationThe Honda City Hybrid offers effortless efficiency and sophistication in a stylish sedan. With its hybrid powertrain, it combines a petrol engine with an electric motor for improved fuel economy and reduced emissions. The sleek and aerodynamic design enhances both aesthetics and performance. The spacious cabin provides comfort for all occupants, and the advanced features and technology offer a connected driving experience. With its smooth and responsive driving dynamics, the Honda City Hybrid ensures a refined and enjoyable ride. Embrace the future of driving with the Honda City Hybrid, where efficiency meets elegance.By shanthalaOn: Jun 19, 2023  | 245 Views Like0 Dislikes\n",
      "https://www.cardekho.com/user-review/honda-city-hybrid/effortless-efficiency-and-sophistication-251735.htm\n",
      "Effortless Efficiency And SophisticationThe Honda City Hybrid is a sleek sedan that effortlessly combines efficiency and sophistication. Its hybrid powertrain, which combines a petrol engine with an electric motor, ensures improved fuel economy and lower emissions. The stylish design, with its aerodynamic features, enhances both the car's appearance and performance. Inside the spacious cabin, all occupants can enjoy optimal comfort, while the advanced features and technology provide a connected driving experience. With its smooth and responsive driving dynamics, the Honda City Hybrid offers a refined and enjoyable ride. Experience the perfect blend of efficiency and elegance with the Honda City Hybrid, as it takes you towards the future of driving. \n",
      "  By shanthalaOn: Jun 19, 2023  | 114 Views Like0 Dislikes\n",
      "https://www.cardekho.com/user-review/honda-city-hybrid/bold-stylish-comfortable-car-251574.htm\n",
      "Bold Stylish Comfortable CarThis car is remarkably spacious and comfortable, with a bold and beautiful design. It features a hybrid powertrain, providing excellent fuel efficiency with an impressive mileage of 30 kilometres per litre. \n",
      "  By userOn: Jun 18, 2023  | 69 Views Like0 Dislikes\n",
      "https://www.cardekho.com/user-review/honda-city-hybrid/value-for-money-250973.htm\n",
      "Value For MoneyThe Honda City is a popular compact sedan that offers a combination of comfort, practicality, and fuel efficiency. It has been a staple in Honda's lineup for many years and has earned a reputation for its reliability and value for money.By abusaiyed mollaOn: Jun 14, 2023  | 47 Views Like0 Dislikes\n",
      "https://www.cardekho.com/user-review/honda-city-hybrid/city-hybrid-is-a-complications-with-energy-effectiveness-249571.htm\n",
      "City Hybrid Is A Complications With Energy EffectivenessThe Honda City Crossover consolidates intricacy with energy viability, offering an outstanding driving encounter. Its crossbreed powertrain conveys a close-to-home profit of around 24-26 km/l, going with it an optimal decision for those looking for moderation. The City Crossover's rich innards, super costly accessories, and happy-with seating hoist the general solace position. It comes furnished with ultramodern highlights like a sunroof, touchscreen infotainment, and a rearview camera that add to its allure. The City Half and Half's exhibition is respectable, with a smooth machine and responsive running.By gunaOn: Jun 07, 2023  | 490 Views Like0 Dislikes\n",
      "https://www.cardekho.com/user-review/honda-city-hybrid/amazing-honda-248197.htm\n",
      "AMAZING HONDAI own a Honda Amaze and Honda is always first priority for me in terms of performance and safety, Eagerly waiting for the Honda Hybrid HRV.By kunal  kakadeOn: May 29, 2023  | 61 Views Like0 Dislikes\n",
      "https://www.cardekho.com/user-review/honda-city-hybrid/good-hybrid-experience-245242.htm\n",
      "Good Hybrid ExperienceJust purchased the top hybrid variant 2 weeks back, smooth drive, and refreshing interiors. Mileage presently getting 19 to 20 kmpl. Honda service told me the mileage would improve after the 1st service. Overall seems to be a good change from Skoda to Honda HybridBy santosh On: May 11, 2023  | 3574 Views Like0 Dislikes\n",
      "https://www.cardekho.com/user-review/honda-city-hybrid/city-hybrid-premium-appearance-244333.htm\n",
      "City Hybrid Premium AppearanceThe Honda City Hybrid, which will debut in 2023, will give the sedan a more upscale and premium appearance. It will also become the most popular model in its class. Additionally, the color choices are giving it additional value. I enjoyed the new model's improved features and how attractive and athletic the steering looked. It is also reasonably priced.By poornimaOn: May 05, 2023  | 1311 Views Like0 Dislikes\n",
      "https://www.cardekho.com/user-review/honda-city-hybrid/the-honda-city-a-masterpiece-of-hybrid-engineerin-240869.htm\n",
      "The Honda City: A Masterpiece Of Hybrid EngineerinThe Honda City is a pinnacle of automotive engineering, blending the capability of a robust sedan with the efficiency of a fuel-sipping hybrid. Elegant, aerodynamic lines flow seamlessly through the Honda City's exterior, drawing onlookers to admire its stunning design. Beneath the hood, a dynamic combination of a powerful electric motor and a 1.5-litre gasoline engine collaborate to deliver an exhilarating output that is both smooth and energetic. Smart technology permeates every inch of the Honda City, putting the driver in complete control, from the advanced climate control system to the eight-inch high-resolution touchscreen display. Inside, premium materials and thoughtful design create an inviting, relaxing atmosphere that is unrivalled in the hybrid sedan market. Whether you're cruising down the highway on a long road trip, or simply commuting to work, the Honda City will deliver the perfect combination of comfort, style, and environmental responsibility that you've come to expect from Honda.By dheeraj chopraOn: Apr 13, 2023  | 755 Views Like0 Dislikes\n",
      "https://www.cardekho.com/user-review/honda-city-hybrid/honda-city-hybrid-is-very-smooth-and-quiet-239910.htm\n",
      "Honda City Hybrid Is Very Smooth And QuietI've had the new Honda City Hybrid for a few months now, and it's been a great experience. The car is very smooth and quiet, and the hybrid system works well. I appreciate the safety features, like the rearview camera and blind-spot monitoring. The interior is also well-designed and spacious. The only downside is that the trunk is a bit smaller than I expected, but it's not a deal-breaker for me. Overall, I would recommend this car to anyone looking for a reliable and efficient hybrid sedan.By dronaOn: Apr 07, 2023  | 1992 Views Like0 Dislikes\n",
      "https://www.cardekho.com/user-review/honda-city-hybrid/appearance-of-your-city-hybrid-238387.htm\n",
      "Appearance Of Your City HybridWith licenced extras, you can spice up the appearance of your City Hybrid, although more differentiation would have been good. Its usage of 185/55 R16 tyres, however, may benefit greatly from stronger rubber. It's noteworthy that, while weighing 130 kg more than the conventional City, the City Hybrid has the same 165mm ground clearance.By rajanandOn: Mar 30, 2023  | 832 Views Like0 Dislikes\n",
      "https://www.cardekho.com/user-review/honda-city-hybrid/city-hybrid-is-a-great-car-237229.htm\n",
      "City Hybrid Is A Great CarHonda city Hybrid is a great car we took a test drive and bookes it instatntly as its so nive and performance is awesome innovative electric hybrid technology that offers exceptional fuel economy and dramatic thrilling acceleration. It is prepared for both what lies ahead on the road and the state of the planet when combined with Honda Sensing. Simply stated, it anticipates.By satendraOn: Mar 24, 2023  | 673 Views Like0 Dislikes\n",
      "https://www.cardekho.com/user-review/honda-city-hybrid/worst-car-236977.htm\n"
     ]
    },
    {
     "name": "stdout",
     "output_type": "stream",
     "text": [
      "Worst CarI have a Honda City ZX E HEV hybrid car. It is the worst car in the world. There are so many issues in this hybrid car ie. technical issues, batteries issues, ADAS, poor mileage, etc. This hybrid car can't be ignited after fifteen days. Please don't buy the Honda City ZX E HEV hybrid model car.By manoj kumar shahOn: Mar 23, 2023  | 3081 Views Like0 Dislikes\n",
      "https://www.cardekho.com/user-review/honda-city-hybrid/a-complete-package-of-everything-236657.htm\n",
      "A Complete Package Of EverythingA great car with excellent mileage. The seats are unmatched and the rear looks like a BMW. You get a lot in the 24 Lakhs you pay for the top-end hybrid. ADAS makes it safer than ever. Best car in the price range.By adavyaaOn: Mar 21, 2023  | 916 Views2 Likes0 Dislikes\n",
      "https://www.cardekho.com/user-review/honda-city-hybrid/finally-honda-is-launching-new-city-hybrid-236654.htm\n",
      "Finally, Honda Is Launching New City Hybridthe updated City now comes in a hybrid avatar as well. Honda has kept the design and looks the same and did not change anything noticeable. The City Hybrid's interior is similar to outgoing models. It's got the same neat dashboard of darker carbon fiber finish and offers excellent frontal visibility. The seats are super comfortable but miss out on ventilated seats. Hybrid Petrol generated a mileage of 27.13 km which is too much for city drives.By raviOn: Mar 21, 2023  | 406 Views Like0 Dislikes\n",
      "https://www.cardekho.com/user-review/honda-city-hybrid/average-car-234232.htm\n",
      "Average CarHonda city is a great car with all the best performance and features. When I bought this it gave first-class mileage but now it is giving only 15 km/l and the maintenance cost is somewhat pricey, I replaced my rear bumper as there was a major dent on the rear the price for replacement was 12000 rupees. And I found a color change in the body colour and bumper by paying 5000 rupees they did foam washing but still, I found some inequalities in colour of the bumper and body.By dt gamerOn: Mar 08, 2023  | 4108 Views Like0 Dislikes\n",
      "https://www.cardekho.com/user-review/honda-city-hybrid/perfect-car-255199.htm\n",
      "Perfect CarThe Honda City is a stylish and comfortable sedan that excels in performance. Its sleek design, spacious interior, and high-quality materials create a premium feel. The City offers a smooth and refined driving experience with a good balance of power and fuel efficiency. Its advanced safety features provide reassurance to occupants. Although rear-seat space may be limited for taller passengers and the touchscreen infotainment system could be more intuitive, the Honda City remains a well-rounded option. With its attractive design, comfortable interior, and impressive safety features, the Honda City is a reliable and stylish sedan worth considering.By paragOn: Jul 08, 2023  | 123 Views Like0 Dislikes\n",
      "https://www.cardekho.com/user-review/honda-city-hybrid/good-hybrid-experience-245242.htm\n",
      "Good Hybrid ExperienceJust purchased the top hybrid variant 2 weeks back, smooth drive, and refreshing interiors. Mileage presently getting 19 to 20 kmpl. Honda service told me the mileage would improve after the 1st service. Overall seems to be a good change from Skoda to Honda HybridBy santosh On: May 11, 2023  | 3574 Views Like0 Dislikes\n",
      "https://www.cardekho.com/user-review/honda-city-hybrid/overall-best-looking-car-255971.htm\n",
      "Overall Best Looking CarOverall best-looking car in sedans in this range and the mileage performance is balanced in the new Honda City Hybrid version the comfort is also good and u have enough boot space and enough reclined and more legroom than the old Honda City.By aayushmanOn: Jul 12, 2023  | 98 Views Like0 Dislikes\n",
      "https://www.cardekho.com/user-review/honda-city-hybrid/effortless-efficiency-and-sophistication-251734.htm\n",
      "Effortless Efficiency And SophisticationThe Honda City Hybrid offers effortless efficiency and sophistication in a stylish sedan. With its hybrid powertrain, it combines a petrol engine with an electric motor for improved fuel economy and reduced emissions. The sleek and aerodynamic design enhances both aesthetics and performance. The spacious cabin provides comfort for all occupants, and the advanced features and technology offer a connected driving experience. With its smooth and responsive driving dynamics, the Honda City Hybrid ensures a refined and enjoyable ride. Embrace the future of driving with the Honda City Hybrid, where efficiency meets elegance.By shanthalaOn: Jun 19, 2023  | 246 Views Like0 Dislikes\n",
      "https://www.cardekho.com/user-review/honda-city-hybrid/bold-stylish-comfortable-car-251574.htm\n",
      "Bold Stylish Comfortable CarThis car is remarkably spacious and comfortable, with a bold and beautiful design. It features a hybrid powertrain, providing excellent fuel efficiency with an impressive mileage of 30 kilometres per litre. \n",
      "  By userOn: Jun 18, 2023  | 71 Views Like0 Dislikes\n",
      "https://www.cardekho.com/user-review/honda-city-hybrid/city-hybrid-premium-appearance-244333.htm\n",
      "City Hybrid Premium AppearanceThe Honda City Hybrid, which will debut in 2023, will give the sedan a more upscale and premium appearance. It will also become the most popular model in its class. Additionally, the color choices are giving it additional value. I enjoyed the new model's improved features and how attractive and athletic the steering looked. It is also reasonably priced.By poornimaOn: May 05, 2023  | 1311 Views Like0 Dislikes\n",
      "https://www.cardekho.com/user-review/honda-city-hybrid/appearance-of-your-city-hybrid-238387.htm\n",
      "Appearance Of Your City HybridWith licenced extras, you can spice up the appearance of your City Hybrid, although more differentiation would have been good. Its usage of 185/55 R16 tyres, however, may benefit greatly from stronger rubber. It's noteworthy that, while weighing 130 kg more than the conventional City, the City Hybrid has the same 165mm ground clearance.By rajanandOn: Mar 30, 2023  | 833 Views Like0 Dislikes\n",
      "https://www.cardekho.com/user-review/honda-city-hybrid/worst-car-236977.htm\n",
      "Worst CarI have a Honda City ZX E HEV hybrid car. It is the worst car in the world. There are so many issues in this hybrid car ie. technical issues, batteries issues, ADAS, poor mileage, etc. This hybrid car can't be ignited after fifteen days. Please don't buy the Honda City ZX E HEV hybrid model car.By manoj kumar shahOn: Mar 23, 2023  | 3082 Views Like0 Dislikes\n",
      "https://www.cardekho.com/user-review/honda-city-hybrid/a-complete-package-of-everything-236657.htm\n",
      "A Complete Package Of EverythingA great car with excellent mileage. The seats are unmatched and the rear looks like a BMW. You get a lot in the 24 Lakhs you pay for the top-end hybrid. ADAS makes it safer than ever. Best car in the price range.By adavyaaOn: Mar 21, 2023  | 916 Views2 Likes0 Dislikes\n"
     ]
    }
   ],
   "source": [
    "from openpyxl import load_workbook\n",
    "workbook = load_workbook('cardekho_hondacity_upd.xlsx')\n",
    "worksheet = workbook.active\n",
    "\n",
    "column_indices = [2]\n",
    "\n",
    "for row in range(2, worksheet.max_row + 1):\n",
    "    for col in column_indices:\n",
    "        filelocation = worksheet.cell(column=col, row=row)  # this is hyperlink\n",
    "        link=filelocation.value\n",
    "        print(filelocation.value)\n",
    "        soup=reach_soup(link)\n",
    "        reach_reviews(soup)\n",
    "        if not soup.find('li',{'class':'disable'}):\n",
    "            pass\n",
    "        else:\n",
    "            break"
   ]
  },
  {
   "cell_type": "code",
   "execution_count": 43,
   "id": "967fb9ec",
   "metadata": {},
   "outputs": [],
   "source": [
    "df=pd.DataFrame(reviewlist)\n",
    "#df.to_excel('XUV 700 Reviews on Cardekho.xlsx', index=False)\n",
    "df.to_excel('Honda city  Hybrid Reviews on Cardekho_upd.xlsx', index=False)"
   ]
  },
  {
   "cell_type": "code",
   "execution_count": null,
   "id": "8cbf5216",
   "metadata": {},
   "outputs": [],
   "source": []
  }
 ],
 "metadata": {
  "kernelspec": {
   "display_name": "Python 3 (ipykernel)",
   "language": "python",
   "name": "python3"
  },
  "language_info": {
   "codemirror_mode": {
    "name": "ipython",
    "version": 3
   },
   "file_extension": ".py",
   "mimetype": "text/x-python",
   "name": "python",
   "nbconvert_exporter": "python",
   "pygments_lexer": "ipython3",
   "version": "3.11.5"
  }
 },
 "nbformat": 4,
 "nbformat_minor": 5
}
